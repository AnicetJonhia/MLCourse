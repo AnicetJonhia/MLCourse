{
  "nbformat": 4,
  "nbformat_minor": 0,
  "metadata": {
    "colab": {
      "provenance": []
    },
    "kernelspec": {
      "name": "python3",
      "display_name": "Python 3"
    },
    "language_info": {
      "name": "python"
    }
  },
  "cells": [
    {
      "cell_type": "code",
      "execution_count": 2,
      "metadata": {
        "colab": {
          "base_uri": "https://localhost:8080/"
        },
        "id": "oumU2xw2lu4G",
        "outputId": "e7729870-cb85-41ce-f3d7-8a50c420775f"
      },
      "outputs": [
        {
          "output_type": "stream",
          "name": "stdout",
          "text": [
            "<module 'numpy' from '/usr/local/lib/python3.12/dist-packages/numpy/__init__.py'>\n"
          ]
        }
      ],
      "source": [
        "import numpy as np\n",
        "print(np)"
      ]
    },
    {
      "cell_type": "code",
      "source": [
        "x = np.arange(15) # 2-D array\n",
        "x"
      ],
      "metadata": {
        "colab": {
          "base_uri": "https://localhost:8080/"
        },
        "id": "MtRrpxbtI3cX",
        "outputId": "00596b08-5234-4554-e7f7-912635f21180"
      },
      "execution_count": 4,
      "outputs": [
        {
          "output_type": "execute_result",
          "data": {
            "text/plain": [
              "array([ 0,  1,  2,  3,  4,  5,  6,  7,  8,  9, 10, 11, 12, 13, 14])"
            ]
          },
          "metadata": {},
          "execution_count": 4
        }
      ]
    },
    {
      "cell_type": "code",
      "source": [
        "x = np.arange(15,dtype=np.int64)\n",
        "x"
      ],
      "metadata": {
        "colab": {
          "base_uri": "https://localhost:8080/"
        },
        "id": "ByQt7zSdJCc2",
        "outputId": "87e8033f-bd66-4838-9bce-477464c3c1ac"
      },
      "execution_count": 5,
      "outputs": [
        {
          "output_type": "execute_result",
          "data": {
            "text/plain": [
              "array([ 0,  1,  2,  3,  4,  5,  6,  7,  8,  9, 10, 11, 12, 13, 14])"
            ]
          },
          "metadata": {},
          "execution_count": 5
        }
      ]
    },
    {
      "cell_type": "code",
      "source": [
        "x = x.reshape(3,5)\n",
        "x"
      ],
      "metadata": {
        "colab": {
          "base_uri": "https://localhost:8080/"
        },
        "id": "qLY9Hga0JKkW",
        "outputId": "64448386-01dc-471d-db9b-da544677d2d2"
      },
      "execution_count": 7,
      "outputs": [
        {
          "output_type": "execute_result",
          "data": {
            "text/plain": [
              "array([[ 0,  1,  2,  3,  4],\n",
              "       [ 5,  6,  7,  8,  9],\n",
              "       [10, 11, 12, 13, 14]])"
            ]
          },
          "metadata": {},
          "execution_count": 7
        }
      ]
    },
    {
      "cell_type": "code",
      "source": [
        "x[1:, ::2]"
      ],
      "metadata": {
        "colab": {
          "base_uri": "https://localhost:8080/"
        },
        "id": "bQs3liktJUVe",
        "outputId": "1f8f6525-1ce0-4333-be43-5a8c8e373734"
      },
      "execution_count": 8,
      "outputs": [
        {
          "output_type": "execute_result",
          "data": {
            "text/plain": [
              "array([[ 5,  7,  9],\n",
              "       [10, 12, 14]])"
            ]
          },
          "metadata": {},
          "execution_count": 8
        }
      ]
    },
    {
      "cell_type": "code",
      "source": [
        "x[2:, :3]"
      ],
      "metadata": {
        "colab": {
          "base_uri": "https://localhost:8080/"
        },
        "id": "7t4hfuqiJkxO",
        "outputId": "7b4cc77e-a7ed-45ed-fb47-aea387a68f0f"
      },
      "execution_count": 13,
      "outputs": [
        {
          "output_type": "execute_result",
          "data": {
            "text/plain": [
              "array([[10, 11, 12]])"
            ]
          },
          "metadata": {},
          "execution_count": 13
        }
      ]
    },
    {
      "cell_type": "code",
      "source": [
        "x[1:, ::2] = -99\n",
        "x"
      ],
      "metadata": {
        "colab": {
          "base_uri": "https://localhost:8080/"
        },
        "id": "t_OLb47-KMhf",
        "outputId": "35652058-f4f1-4496-ccba-58156b35d434"
      },
      "execution_count": 16,
      "outputs": [
        {
          "output_type": "execute_result",
          "data": {
            "text/plain": [
              "array([[  0,   1,   2,   3,   4],\n",
              "       [-99,   6, -99,   8, -99],\n",
              "       [-99,  11, -99,  13, -99]])"
            ]
          },
          "metadata": {},
          "execution_count": 16
        }
      ]
    },
    {
      "cell_type": "code",
      "source": [
        "x.max(axis=0) # dimension 1\n"
      ],
      "metadata": {
        "colab": {
          "base_uri": "https://localhost:8080/"
        },
        "id": "45k6B-wDKYpW",
        "outputId": "1594a92e-def2-478a-b23e-627c2c1da4d5"
      },
      "execution_count": 23,
      "outputs": [
        {
          "output_type": "execute_result",
          "data": {
            "text/plain": [
              "array([ 0, 11,  2, 13,  4])"
            ]
          },
          "metadata": {},
          "execution_count": 23
        }
      ]
    },
    {
      "cell_type": "code",
      "source": [
        "x.max(axis=1) # dimension 2"
      ],
      "metadata": {
        "colab": {
          "base_uri": "https://localhost:8080/"
        },
        "id": "0O4pDeP1LBGf",
        "outputId": "5d3d9a3a-8d91-4eab-fab7-a9cc29ec12e0"
      },
      "execution_count": 24,
      "outputs": [
        {
          "output_type": "execute_result",
          "data": {
            "text/plain": [
              "array([ 4,  8, 13])"
            ]
          },
          "metadata": {},
          "execution_count": 24
        }
      ]
    },
    {
      "cell_type": "code",
      "source": [
        "# random number generating\n",
        "rng = np.random.default_rng()\n",
        "rng"
      ],
      "metadata": {
        "colab": {
          "base_uri": "https://localhost:8080/"
        },
        "id": "-pDs5pxzLRle",
        "outputId": "e5264eae-8be0-43a1-c4d6-46791ee9e7ee"
      },
      "execution_count": 25,
      "outputs": [
        {
          "output_type": "execute_result",
          "data": {
            "text/plain": [
              "Generator(PCG64) at 0x7CF08165D540"
            ]
          },
          "metadata": {},
          "execution_count": 25
        }
      ]
    },
    {
      "cell_type": "code",
      "source": [
        "samples = rng.normal(size=10)\n",
        "samples\n",
        "\n"
      ],
      "metadata": {
        "colab": {
          "base_uri": "https://localhost:8080/"
        },
        "id": "MxZFs9N_LltA",
        "outputId": "32df7a21-9d8b-434e-87fd-a74c808d7542"
      },
      "execution_count": 28,
      "outputs": [
        {
          "output_type": "execute_result",
          "data": {
            "text/plain": [
              "array([-1.65829008,  0.98561593, -1.74133549, -0.09514157, -1.28836358,\n",
              "       -0.9322649 ,  0.57309647,  0.73874232,  0.18586968, -1.5037801 ])"
            ]
          },
          "metadata": {},
          "execution_count": 28
        }
      ]
    },
    {
      "cell_type": "code",
      "source": [
        "samples[::5]"
      ],
      "metadata": {
        "colab": {
          "base_uri": "https://localhost:8080/"
        },
        "id": "EnrFsPWdL0gG",
        "outputId": "70227d83-cd86-4a2a-eab1-18a0e8129ec0"
      },
      "execution_count": 30,
      "outputs": [
        {
          "output_type": "execute_result",
          "data": {
            "text/plain": [
              "array([-1.65829008, -0.9322649 ])"
            ]
          },
          "metadata": {},
          "execution_count": 30
        }
      ]
    }
  ]
}